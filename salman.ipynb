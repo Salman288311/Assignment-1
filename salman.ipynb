{
 "cells": [
  {
   "cell_type": "code",
   "execution_count": 1,
   "metadata": {},
   "outputs": [
    {
     "name": "stdout",
     "output_type": "stream",
     "text": [
      "3.7.4\n"
     ]
    }
   ],
   "source": [
    "from platform import python_version\n",
    "print(python_version())"
   ]
  },
  {
   "cell_type": "code",
   "execution_count": 2,
   "metadata": {},
   "outputs": [
    {
     "name": "stdout",
     "output_type": "stream",
     "text": [
      "16:46:01\n"
     ]
    }
   ],
   "source": [
    "import time\n",
    "current_time = time.strftime(\"%H:%M:%S\")\n",
    "print(current_time)"
   ]
  },
  {
   "cell_type": "code",
   "execution_count": 3,
   "metadata": {},
   "outputs": [
    {
     "name": "stdout",
     "output_type": "stream",
     "text": [
      "2019-11-04\n"
     ]
    }
   ],
   "source": [
    "from datetime import date\n",
    "today=date.today()\n",
    "print(today)"
   ]
  },
  {
   "cell_type": "code",
   "execution_count": 5,
   "metadata": {},
   "outputs": [
    {
     "name": "stdout",
     "output_type": "stream",
     "text": [
      "Enter radius of circle 12\n",
      "Area of circle is :  452.3893421169302\n"
     ]
    }
   ],
   "source": [
    "from math import pi\n",
    "r=int(input(\"Enter radius of circle \"))\n",
    "a=pi*(r**2)\n",
    "print(\"Area of circle is : \",a)"
   ]
  },
  {
   "cell_type": "code",
   "execution_count": 6,
   "metadata": {},
   "outputs": [
    {
     "name": "stdout",
     "output_type": "stream",
     "text": [
      "Enter first number12\n",
      "Enter second number12\n",
      "24\n"
     ]
    }
   ],
   "source": [
    "a=int(input(\"Enter first number\"))\n",
    "b=int(input(\"Enter second number\"))\n",
    "c=a+b\n",
    "print(c)"
   ]
  },
  {
   "cell_type": "code",
   "execution_count": 7,
   "metadata": {},
   "outputs": [
    {
     "name": "stdout",
     "output_type": "stream",
     "text": [
      "Twinkle,twinkle,little star,\n",
      "\t How I wonder what you are?\n",
      "\t\t up above the world so high ,\n",
      "\t\t like a diamond in the sky,\n",
      "Twinkle,twinkle,little star,\n",
      "\t How I wonder what you are \n"
     ]
    }
   ],
   "source": [
    "print(\"Twinkle,twinkle,little star,\\n\\t How I wonder what you are?\\n\\t\\t up above the world so high ,\\n\\t\\t like a diamond in the sky,\\nTwinkle,twinkle,little star,\\n\\t How I wonder what you are \")"
   ]
  },
  {
   "cell_type": "code",
   "execution_count": 8,
   "metadata": {},
   "outputs": [
    {
     "name": "stdout",
     "output_type": "stream",
     "text": [
      "NASSAH NAMLAS\n"
     ]
    }
   ],
   "source": [
    "def name_reverse(x):\n",
    " return x[::-1]\n",
    "name = name_reverse(\"SALMAN HASSAN\")\n",
    "print(name)"
   ]
  },
  {
   "cell_type": "code",
   "execution_count": 9,
   "metadata": {},
   "outputs": [
    {
     "name": "stdout",
     "output_type": "stream",
     "text": [
      "Enter your Name :sa\n",
      "Enter your School Name : sa\n",
      "Enter Total marks : 500\n",
      "Enter marks of chemistry : 50\n",
      "Enter marks of Math : 50\n",
      "Enter marks of urdu : 50\n",
      "Enter marks of English : 50\n",
      "Enter marks of Islamiat : 50\n",
      "Sum of All subject is :  250.0\n",
      "Percentage you achieved :  50.0\n",
      "keep hard working again and again\n"
     ]
    }
   ],
   "source": [
    "a = input(\"Enter your Name :\")\n",
    "\n",
    "b = input(\"Enter your School Name : \")\n",
    "\n",
    "c = int(input(\"Enter Total marks : \"))\n",
    "\n",
    "chem = float(input(\"Enter marks of chemistry : \"))\n",
    "mth = float(input(\"Enter marks of Math : \"))\n",
    "urdu = float(input(\"Enter marks of urdu : \"))\n",
    "eng = float(input(\"Enter marks of English : \"))\n",
    "isl = float(input(\"Enter marks of Islamiat : \"))\n",
    "\n",
    "sum = chem + mth + urdu + eng + isl\n",
    "print(\"Sum of All subject is : \",sum)\n",
    "\n",
    "per = (sum/c)*100\n",
    "print(\"Percentage you achieved : \",per)\n",
    "\n",
    "if per>=80:\n",
    " print(\"Congrates you achieved A+\")\n",
    "elif per>=70 and per<=79.9:\n",
    " print(\"Congrates you achieved A\")\n",
    "elif per>=60 and per<=69.9:\n",
    " print(\"congrates you achieved B\")\n",
    "else:\n",
    " print(\"keep hard working again and again\")\n",
    "\n",
    "    \n",
    "\n"
   ]
  },
  {
   "cell_type": "code",
   "execution_count": null,
   "metadata": {},
   "outputs": [],
   "source": []
  },
  {
   "cell_type": "code",
   "execution_count": null,
   "metadata": {},
   "outputs": [],
   "source": []
  }
 ],
 "metadata": {
  "kernelspec": {
   "display_name": "Python 3",
   "language": "python",
   "name": "python3"
  },
  "language_info": {
   "codemirror_mode": {
    "name": "ipython",
    "version": 3
   },
   "file_extension": ".py",
   "mimetype": "text/x-python",
   "name": "python",
   "nbconvert_exporter": "python",
   "pygments_lexer": "ipython3",
   "version": "3.7.4"
  }
 },
 "nbformat": 4,
 "nbformat_minor": 2
}
