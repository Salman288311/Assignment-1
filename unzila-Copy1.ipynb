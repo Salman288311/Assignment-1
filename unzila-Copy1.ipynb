{
 "cells": [
  {
   "cell_type": "code",
   "execution_count": 47,
   "metadata": {},
   "outputs": [
    {
     "name": "stdout",
     "output_type": "stream",
     "text": [
      "Enter a number to find it is odd or even!85\n",
      "it is odd\n"
     ]
    }
   ],
   "source": [
    "a = int(input(\"Enter a number to find it is odd or even!\"))\n",
    "if (a % 2 == 0):\n",
    "  print(\"it is even\")\n",
    "else:\n",
    " print(\"it is odd\")"
   ]
  },
  {
   "cell_type": "code",
   "execution_count": 22,
   "metadata": {},
   "outputs": [
    {
     "name": "stdout",
     "output_type": "stream",
     "text": [
      "slice(None, 1, None)\n"
     ]
    }
   ],
   "source": [
    "arr_1 = [\"ali\",\"haider\",\"salman\"]\n",
    "print(slice(1))"
   ]
  },
  {
   "cell_type": "code",
   "execution_count": 25,
   "metadata": {},
   "outputs": [
    {
     "name": "stdout",
     "output_type": "stream",
     "text": [
      "16\n"
     ]
    }
   ],
   "source": [
    "list = [2 , 4 , 5 , 5]\n",
    "total = sum (list)\n",
    "print(total)"
   ]
  },
  {
   "cell_type": "code",
   "execution_count": 29,
   "metadata": {},
   "outputs": [
    {
     "name": "stdout",
     "output_type": "stream",
     "text": [
      "1\n",
      "1\n",
      "2\n",
      "3\n"
     ]
    }
   ],
   "source": [
    "a = [1, 1, 2, 3, 5, 8, 13, 21, 34, 55, 89]\n",
    "\n",
    "for i in a:\n",
    "\n",
    "    if i < 5:\n",
    "\n",
    "        print(i)"
   ]
  },
  {
   "cell_type": "code",
   "execution_count": 37,
   "metadata": {},
   "outputs": [
    {
     "name": "stdout",
     "output_type": "stream",
     "text": [
      "89\n"
     ]
    }
   ],
   "source": [
    "a = [1, 1, 2, 3, 5, 8, 13, 21, 34, 55, 89]\n",
    "\n",
    "for i in a:\n",
    "\n",
    "    if i >= 89:\n",
    "\n",
    "        print(i)"
   ]
  },
  {
   "cell_type": "code",
   "execution_count": 38,
   "metadata": {},
   "outputs": [
    {
     "name": "stdout",
     "output_type": "stream",
     "text": [
      "11\n"
     ]
    }
   ],
   "source": [
    "a = [1, 1, 2, 3, 5, 8, 13, 21, 34, 55, 89]\n",
    "b = len(a)\n",
    "print(b)"
   ]
  },
  {
   "cell_type": "code",
   "execution_count": null,
   "metadata": {},
   "outputs": [
    {
     "name": "stdout",
     "output_type": "stream",
     "text": [
      "Enter your Name :25.3\n"
     ]
    }
   ],
   "source": [
    "a = input(\"Enter your Name :\")\n",
    "\n",
    "b = input(\"Enter your School Name : \")\n",
    "\n",
    "c = int(input(\"Enter Total marks : \"))\n",
    "\n",
    "chem = float(input(\"Enter marks of chemistry : \"))\n",
    "mth = float(input(\"Enter marks of Math : \"))\n",
    "urdu = float(input(\"Enter marks of urdu : \"))\n",
    "eng = float(input(\"Enter marks of English : \"))\n",
    "isl = float(input(\"Enter marks of Islamiat : \"))\n",
    "\n",
    "sum = chem + mth + urdu + eng + isl\n",
    "print(\"Sum of All subject is : \",sum)\n",
    "\n",
    "per = (sum/c)*100\n",
    "print(\"Percentage you achieved : \",per)\n",
    "\n",
    "if per>=80:\n",
    " print(\"Congrates you achieved A+\")\n",
    "elif per>=70 and per<=79.9:\n",
    " print(\"Congrates you achieved A\")\n",
    "elif per>=60 and per<=69.9:\n",
    " print(\"congrates you achieved B\")\n",
    "else:\n",
    " print(\"keep hard working again and again\")\n",
    "\n",
    "    \n",
    "\n"
   ]
  },
  {
   "cell_type": "code",
   "execution_count": null,
   "metadata": {},
   "outputs": [],
   "source": []
  }
 ],
 "metadata": {
  "kernelspec": {
   "display_name": "Python 3",
   "language": "python",
   "name": "python3"
  },
  "language_info": {
   "codemirror_mode": {
    "name": "ipython",
    "version": 3
   },
   "file_extension": ".py",
   "mimetype": "text/x-python",
   "name": "python",
   "nbconvert_exporter": "python",
   "pygments_lexer": "ipython3",
   "version": "3.7.4"
  }
 },
 "nbformat": 4,
 "nbformat_minor": 2
}
