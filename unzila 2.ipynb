{
 "cells": [
  {
   "cell_type": "code",
   "execution_count": 39,
   "metadata": {},
   "outputs": [
    {
     "name": "stdout",
     "output_type": "stream",
     "text": [
      "Select operator please!\n",
      "1:Addition\n",
      "2:subtraction\n",
      "3:Multiplication\n",
      "4:division\n",
      "5:power\n",
      "Enter choice (1/2/3/4/5)4\n",
      "Enter first number:3\n",
      "Enter second number:3\n",
      "3.0 / 3.0 = 1.0\n"
     ]
    }
   ],
   "source": [
    "def addition (a,b):\n",
    " return a+b\n",
    "def subtraction (a,b):\n",
    " return a-b\n",
    "def multiplication (a,b):\n",
    " return a*b\n",
    "def division (a,b):\n",
    " return a/b\n",
    "def power (a,b):\n",
    " return a**b\n",
    "print(\"Select operator please!\")\n",
    "print(\"1:Addition\")\n",
    "print(\"2:subtraction\")\n",
    "print(\"3:Multiplication\")\n",
    "print(\"4:division\")\n",
    "print(\"5:power\")\n",
    "\n",
    "choose = input(\"Enter choice (1/2/3/4/5)\")\n",
    "a = float(input(\"Enter first number:\"))\n",
    "b = float(input(\"Enter second number:\"))\n",
    "\n",
    "if choose =='1':\n",
    "    print(a,\"+\",b,\"=\",addition(a,b))\n",
    "    \n",
    "elif choose =='2':\n",
    "    print(a,\"-\",b,\"=\",subtraction(a,b))\n",
    "    \n",
    "elif choose =='3':\n",
    "    print(a,\"*\",b,\"=\",multiplication(a,b))\n",
    "    \n",
    "elif choose =='4':\n",
    "    print(a,\"/\",b,\"=\",division(a,b))\n",
    "    \n",
    "elif choose =='5':\n",
    "    print(a,\"**\",b,\"=\",power(a,b))\n",
    "else:\n",
    "    print(\"ERROR! please Enter correct operator\")\n",
    "        "
   ]
  },
  {
   "cell_type": "code",
   "execution_count": 38,
   "metadata": {},
   "outputs": [
    {
     "name": "stdout",
     "output_type": "stream",
     "text": [
      "dictionary is: {'first_name': 'Muhammad', 'last_name': 'Salman', 'address': '123 norway site'}\n",
      "updated dictionary is :: {'first_name': 'Muhammad', 'last_name': 'Salman', 'address': '123 norway site', 'father': 'Hassan', 'Marital status': 'Single'}\n"
     ]
    }
   ],
   "source": [
    "student_103={\n",
    "\"first_name\":\"Muhammad\",\n",
    "\"last_name\":\"Salman\",\n",
    "\"address\":\"123 norway site\",\n",
    "            }\n",
    "print(\"dictionary is:\",student_103)\n",
    "student_103 ['father']='Hassan'\n",
    "student_103 ['Marital status']='Single'\n",
    "\n",
    "print(\"updated dictionary is ::\",student_103)"
   ]
  },
  {
   "cell_type": "code",
   "execution_count": 45,
   "metadata": {},
   "outputs": [
    {
     "name": "stdout",
     "output_type": "stream",
     "text": [
      "120\n"
     ]
    }
   ],
   "source": [
    "dict = {'a': 8,'b': 52,'c': 60}\n",
    "sum1 = sum(dict[item] for item in dict)\n",
    "print(sum1)"
   ]
  },
  {
   "cell_type": "code",
   "execution_count": 55,
   "metadata": {},
   "outputs": [
    {
     "ename": "SyntaxError",
     "evalue": "invalid syntax (<ipython-input-55-e0b1b5d6c43d>, line 1)",
     "output_type": "error",
     "traceback": [
      "\u001b[1;36m  File \u001b[1;32m\"<ipython-input-55-e0b1b5d6c43d>\"\u001b[1;36m, line \u001b[1;32m1\u001b[0m\n\u001b[1;33m    def checkifduplicates(listOfElems)\u001b[0m\n\u001b[1;37m                                      ^\u001b[0m\n\u001b[1;31mSyntaxError\u001b[0m\u001b[1;31m:\u001b[0m invalid syntax\n"
     ]
    }
   ],
   "source": [
    "def checkifduplicates(listOfElems)\n",
    "listOfElems = ['Hello', 'Ok', 'is', 'Ok', 'test', 'this', 'is', 'a', 'test']\n",
    " result = check if duplicates(listOfElems)\n",
    "if result:\n",
    " print('Yes, list contains duplicates')\n",
    "else:\n",
    " print('No duplicates found in list')"
   ]
  },
  {
   "cell_type": "code",
   "execution_count": 57,
   "metadata": {},
   "outputs": [],
   "source": [
    "\n",
    "\n",
    "def checkIfDuplicates_3(listOfElems):​​):\n",
    "    ''' Check if given list contains any duplicates '''    \n",
    "    for elem in listOfElems:\n",
    "        if listOfElems.count(elem) > 1:\n",
    "            return True\n",
    "    return False"
   ]
  },
  {
   "cell_type": "code",
   "execution_count": null,
   "metadata": {},
   "outputs": [],
   "source": []
  },
  {
   "cell_type": "code",
   "execution_count": null,
   "metadata": {},
   "outputs": [],
   "source": []
  }
 ],
 "metadata": {
  "kernelspec": {
   "display_name": "Python 3",
   "language": "python",
   "name": "python3"
  },
  "language_info": {
   "codemirror_mode": {
    "name": "ipython",
    "version": 3
   },
   "file_extension": ".py",
   "mimetype": "text/x-python",
   "name": "python",
   "nbconvert_exporter": "python",
   "pygments_lexer": "ipython3",
   "version": "3.7.4"
  }
 },
 "nbformat": 4,
 "nbformat_minor": 2
}
